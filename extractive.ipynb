{
 "cells": [
  {
   "cell_type": "code",
   "execution_count": null,
   "metadata": {},
   "outputs": [],
   "source": [
    "import os\n",
    "import sumy\n",
    "from sumy.parsers.plaintext import PlaintextParser\n",
    "from sumy.nlp.tokenizers import Tokenizer\n",
    "from sumy.summarizers.luhn import LuhnSummarizer\n",
    "from sumy.summarizers.text_rank import TextRankSummarizer\n",
    "from sumy.summarizers.lex_rank import LexRankSummarizer\n",
    "from sumy.summarizers.lsa import LsaSummarizer\n",
    "from sumy.summarizers.kl import KLSummarizer\n",
    "from sumy.summarizers.reduction import ReductionSummarizer\n",
    "from sumy.summarizers.edmundson import EdmundsonSummarizer\n",
    "from sumy.summarizers.random import RandomSummarizer\n",
    "from sumy.summarizers.sum_basic import SumBasicSummarizer\n",
    "from sumy.utils import get_stop_words\n",
    "from sumy.nlp.stemmers import Stemmer\n",
    "\n",
    "from helpers import *"
   ]
  },
  {
   "cell_type": "code",
   "execution_count": null,
   "metadata": {},
   "outputs": [],
   "source": [
    "SENTENCES_COUNT = 7"
   ]
  },
  {
   "cell_type": "code",
   "execution_count": null,
   "metadata": {},
   "outputs": [],
   "source": [
    "ENGLISH = \"english\"\n",
    "UKRAINIAN = \"ukrainian\""
   ]
  },
  {
   "cell_type": "code",
   "execution_count": null,
   "metadata": {},
   "outputs": [],
   "source": [
    "def summarize_extractively(summarizer, tokenizer):\n",
    "    storage_folder = os.path.join(os.path.curdir, \"laws_with_abstracts\")\n",
    "    summarized_folder = os.path.join(storage_folder, \"summarized\")\n",
    "\n",
    "    language_folder = os.path.join(summarized_folder, tokenizer.language)\n",
    "    create_folder_if_not_exists(language_folder)\n",
    "\n",
    "    approach_folder = os.path.join(language_folder, \"extractive\")\n",
    "    create_folder_if_not_exists(approach_folder)\n",
    "\n",
    "    summarizer_name = summarizer.__class__.__name__\n",
    "    method_folder = os.path.join(approach_folder, summarizer_name)\n",
    "\n",
    "    create_folder_if_not_exists(method_folder)\n",
    "\n",
    "    laws_folder = os.path.join(storage_folder, tokenizer.language, \"laws\")\n",
    "    laws_folder_listed = os.listdir(laws_folder)\n",
    "\n",
    "    for index, _ in enumerate(laws_folder_listed):\n",
    "        start_index = get_next_index(method_folder, split_by_dot=True)\n",
    "\n",
    "        if int(start_index) > index:\n",
    "            continue\n",
    "\n",
    "        law_folder = os.path.join(laws_folder, str(index))\n",
    "        paras_folder = os.listdir(law_folder)\n",
    "        para_list = []\n",
    "\n",
    "        summarized_law_path = os.path.join(method_folder, f\"{start_index}.txt\")\n",
    "\n",
    "        for index, _ in enumerate(paras_folder):\n",
    "            para_file = os.path.join(law_folder, f\"{str(index)}.txt\")\n",
    "\n",
    "            with open(para_file, 'r') as file:\n",
    "                para_text = file.read()\n",
    "                para_list.append(para_text)\n",
    "\n",
    "        law_text = \" \".join(para_list)\n",
    "        parser = PlaintextParser.from_string(law_text, tokenizer)\n",
    "        summarized = []\n",
    "\n",
    "        for sentence in summarizer(parser.document, SENTENCES_COUNT):\n",
    "            summarized.append(sentence)\n",
    "\n",
    "        summarized_text = ' '.join(str(v) for v in summarized)\n",
    "\n",
    "        with open(summarized_law_path, 'w') as f:\n",
    "            f.write(summarized_text)"
   ]
  },
  {
   "cell_type": "code",
   "execution_count": null,
   "metadata": {},
   "outputs": [],
   "source": [
    "def execute_extractive_summarization(language):\n",
    "    stemmer = Stemmer(language)\n",
    "    tokenizer = Tokenizer(language)\n",
    "\n",
    "    summarizers = [\n",
    "        LuhnSummarizer(stemmer),\n",
    "        SumBasicSummarizer(),\n",
    "        RandomSummarizer(stemmer),\n",
    "        ReductionSummarizer(stemmer),\n",
    "        KLSummarizer(stemmer),\n",
    "        LexRankSummarizer(stemmer),\n",
    "        TextRankSummarizer(stemmer),\n",
    "        LsaSummarizer(stemmer)\n",
    "    ]\n",
    "\n",
    "    edmundson_summarizer = EdmundsonSummarizer(stemmer)\n",
    "    edmundson_summarizer.bonus_words = ('foo',)\n",
    "    edmundson_summarizer.stigma_words = ('foo',)\n",
    "    edmundson_summarizer.null_words = ('foo',)\n",
    "    summarizers.append(edmundson_summarizer)\n",
    "\n",
    "    for summarizer in summarizers:\n",
    "        summarizer.stop_words = get_stop_words(language)\n",
    "        summarize_extractively(summarizer, tokenizer)"
   ]
  },
  {
   "cell_type": "code",
   "execution_count": null,
   "metadata": {},
   "outputs": [],
   "source": [
    "# execute_extractive_summarization(UKRAINIAN)\n",
    "# execute_extractive_summarization(ENGLISH)"
   ]
  }
 ],
 "metadata": {
  "kernelspec": {
   "display_name": "Python 3",
   "language": "python",
   "name": "python3"
  },
  "language_info": {
   "codemirror_mode": {
    "name": "ipython",
    "version": 3
   },
   "file_extension": ".py",
   "mimetype": "text/x-python",
   "name": "python",
   "nbconvert_exporter": "python",
   "pygments_lexer": "ipython3",
   "version": "3.11.3"
  },
  "orig_nbformat": 4
 },
 "nbformat": 4,
 "nbformat_minor": 2
}
