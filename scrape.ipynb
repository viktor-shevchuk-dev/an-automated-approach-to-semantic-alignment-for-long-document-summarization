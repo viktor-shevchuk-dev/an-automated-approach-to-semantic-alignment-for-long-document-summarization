{
 "cells": [
  {
   "cell_type": "code",
   "execution_count": 40,
   "metadata": {},
   "outputs": [],
   "source": [
    "import os\n",
    "from requests_html import AsyncHTMLSession\n",
    "import pandas as pd\n",
    "import re\n",
    "\n",
    "from helpers import *"
   ]
  },
  {
   "cell_type": "code",
   "execution_count": 41,
   "metadata": {},
   "outputs": [],
   "source": [
    "asession = AsyncHTMLSession()\n",
    "SLEEP_TIME = 10\n",
    "ENGLISH_LAWS_URL = \"https://zakon.rada.gov.ua/laws/main/en/llenglaws\"\n",
    "UKRAINIAN_LAWS_URL = \"https://zakon.rada.gov.ua/laws/main/a/page\""
   ]
  },
  {
   "cell_type": "code",
   "execution_count": 109,
   "metadata": {},
   "outputs": [],
   "source": [
    "def save_document(element_list, documents_list_specifier, storage_path):\n",
    "    documents_list_folder = os.path.join(storage_path, documents_list_specifier)\n",
    "    create_folder_if_not_exists(documents_list_folder)\n",
    "    start_index = get_next_index(documents_list_folder)\n",
    "    document_folder = os.path.join(documents_list_folder, start_index)\n",
    "    os.mkdir(document_folder)\n",
    "        \n",
    "    for _, element in enumerate(element_list):\n",
    "        if not element.text.strip():\n",
    "            continue\n",
    "\n",
    "        if \"laws\" in documents_list_specifier:\n",
    "            section_title_element = element.find(\".rvts9\")\n",
    "\n",
    "            if section_title_element:\n",
    "                section_start_index = get_next_index(document_folder)\n",
    "                section_folder = os.path.join(document_folder, section_start_index)\n",
    "                os.mkdir(section_folder)\n",
    "                para_start_index = get_next_index(section_folder)\n",
    "                file_path = os.path.join(section_folder, f'{para_start_index}.txt')\n",
    "\n",
    "                with open(file_path, 'w') as f:\n",
    "                    f.write(element.text)\n",
    "            else:\n",
    "                section_start_index = get_next_index(document_folder)   \n",
    "\n",
    "                if int(section_start_index) == 0:\n",
    "                    continue \n",
    "                \n",
    "                section_folder = os.path.join(document_folder, str(int(section_start_index) - 1))\n",
    "                para_start_index = get_next_index(section_folder, split_by_dot=True)\n",
    "                file_path = os.path.join(section_folder, f'{para_start_index}.txt') \n",
    "                with open(file_path, 'w') as f:\n",
    "                    f.write(element.text)\n",
    "        else:\n",
    "            para_start_index = get_next_index(document_folder, split_by_dot=True)\n",
    "            file_path = os.path.join(document_folder, f'{para_start_index}.txt')\n",
    "\n",
    "            with open(file_path, 'w') as f:\n",
    "                    f.write(element.text)"
   ]
  },
  {
   "cell_type": "code",
   "execution_count": 83,
   "metadata": {},
   "outputs": [],
   "source": [
    "async def retrieve_abstract(url):\n",
    "    response = await asession.get(url)\n",
    "    await response.html.arender(sleep=SLEEP_TIME)\n",
    "    element_list = response.html.find(\".rvts0 [align='justify'], .rvts0 ul\")\n",
    "    return element_list"
   ]
  },
  {
   "cell_type": "code",
   "execution_count": 84,
   "metadata": {},
   "outputs": [],
   "source": [
    "def get_abstract_link_element(page_response):\n",
    "    return page_response.html.find(\"[href*='anot']\", first=True)"
   ]
  },
  {
   "cell_type": "code",
   "execution_count": 85,
   "metadata": {},
   "outputs": [],
   "source": [
    "# title and signature - \".rvts0 > .rvps8\"\n",
    "def get_law_element_list(page_response):\n",
    "    return page_response.html.find(\".rvts0 > .rvps2, .rvts0 .rvts15\")"
   ]
  },
  {
   "cell_type": "code",
   "execution_count": 86,
   "metadata": {},
   "outputs": [],
   "source": [
    "async def process_law_and_save(law_element_list, abstract_link_element, row, lang_prefix, storage_path):\n",
    "    row[f'{lang_prefix}_abstract_url'] = next(iter(abstract_link_element.absolute_links))\n",
    "    abstract_element_list = await retrieve_abstract(row[f'{lang_prefix}_abstract_url'])\n",
    "\n",
    "    save_document(law_element_list, f'{lang_prefix}_laws', storage_path)\n",
    "    save_document(abstract_element_list, f'{lang_prefix}_abstracts', storage_path)"
   ]
  },
  {
   "cell_type": "code",
   "execution_count": 103,
   "metadata": {},
   "outputs": [],
   "source": [
    "async def retrieve_law_and_abstract_in_en_and_uk(en_law_url, storage_path, lang):\n",
    "    df = pd.read_csv(os.path.join(storage_path, \"df.csv\"))\n",
    "\n",
    "    if df[f'{lang}_law_url'].str.contains(en_law_url).any():\n",
    "        return\n",
    "\n",
    "    row = {f'{lang}_law_url': en_law_url}\n",
    "\n",
    "    en_page_response = await asession.get(en_law_url)\n",
    "    await en_page_response.html.arender(sleep=SLEEP_TIME)\n",
    "\n",
    "    en_abstract_link_element = get_abstract_link_element(en_page_response)\n",
    "\n",
    "    if en_abstract_link_element:\n",
    "        en_law_element_list = get_law_element_list(en_page_response)\n",
    "\n",
    "        if en_law_element_list:\n",
    "            await process_law_and_save(en_law_element_list, en_abstract_link_element, row, 'en', storage_path)\n",
    "\n",
    "            uk_law_link_element = en_page_response.html.find(\"[lang='uk']\", first=True)\n",
    "            row['uk_law_url'] = next(iter(uk_law_link_element.absolute_links))\n",
    "            uk_page_response = await asession.get(row['uk_law_url'])\n",
    "            await uk_page_response.html.arender(sleep=SLEEP_TIME)\n",
    "            uk_abstract_link_element = get_abstract_link_element(uk_page_response)\n",
    "\n",
    "            uk_law_element_list = get_law_element_list(uk_page_response)\n",
    "            await process_law_and_save(uk_law_element_list, uk_abstract_link_element, row, 'uk', storage_path)\n",
    "        else:\n",
    "            row['is_standardized'] = False\n",
    "\n",
    "    df = pd.concat([df, pd.DataFrame([row])], ignore_index=True)\n",
    "    df.to_csv(os.path.join(storage_path, \"df.csv\"), index=False)"
   ]
  },
  {
   "cell_type": "code",
   "execution_count": 88,
   "metadata": {},
   "outputs": [],
   "source": [
    "async def retrieve_page_from_pagination(url, storage_folder, lang):\n",
    "    response = await asession.get(url)\n",
    "    await response.html.arender()\n",
    "    laws_link_elements_list = response.html.find(\".valid\")\n",
    "\n",
    "    for law_link_element in laws_link_elements_list:\n",
    "        law_url = next(iter(law_link_element.absolute_links))\n",
    "        await retrieve_law_and_abstract_in_en_and_uk(law_url, storage_folder, lang)"
   ]
  },
  {
   "cell_type": "code",
   "execution_count": 89,
   "metadata": {},
   "outputs": [],
   "source": [
    "async def retrieve_laws_and_abstracts_from_pagination_pages(pagination_url_list, storage_folder, columns, lang):\n",
    "    df_path = os.path.join(storage_folder, \"df.csv\")\n",
    "\n",
    "    if not os.path.exists(df_path):\n",
    "        df = pd.DataFrame(columns=columns)\n",
    "        df.to_csv(df_path, index=False)\n",
    "\n",
    "    for pagination_url in pagination_url_list:\n",
    "        await retrieve_page_from_pagination(pagination_url, storage_folder, lang)"
   ]
  },
  {
   "cell_type": "code",
   "execution_count": 90,
   "metadata": {},
   "outputs": [],
   "source": [
    "async def get_laws_pagination_urls(entry_url, selector):\n",
    "    laws_pagination_urls = []\n",
    "\n",
    "    r = await asession.get(entry_url)\n",
    "    await r.html.arender()\n",
    "\n",
    "    to_the_end_link_element = r.html.find(f\"{selector}[title='в кінець']\", first=True)\n",
    "    \n",
    "    if to_the_end_link_element:\n",
    "        to_the_end_url = next(iter(to_the_end_link_element.absolute_links))\n",
    "        match = re.search(r'page(\\d+)$', to_the_end_url)\n",
    "        max_page_number = int(match.group(1))\n",
    "\n",
    "        for i in range(1, max_page_number + 1):\n",
    "            laws_pagination_urls.append(f\"{entry_url}/page{i}\")\n",
    "    else:\n",
    "        pagination_link_element_list = r.html.find(selector)\n",
    "\n",
    "        for pagination_link_element in pagination_link_element_list:\n",
    "            title_attr = pagination_link_element.attrs.get('title')\n",
    "\n",
    "            if title_attr == 'поточна сторінка' or title_attr == 'current page':\n",
    "                laws_pagination_urls.append(entry_url)\n",
    "            else:\n",
    "                pagination_url = next(iter(pagination_link_element.absolute_links))\n",
    "                laws_pagination_urls.append(pagination_url)\n",
    "\n",
    "    return laws_pagination_urls"
   ]
  },
  {
   "cell_type": "code",
   "execution_count": 91,
   "metadata": {},
   "outputs": [
    {
     "data": {
      "text/plain": [
       "['https://zakon.rada.gov.ua/laws/main/en/llenglaws',\n",
       " 'https://zakon.rada.gov.ua/laws/main/en/llenglaws/page2',\n",
       " 'https://zakon.rada.gov.ua/laws/main/en/llenglaws/page3',\n",
       " 'https://zakon.rada.gov.ua/laws/main/en/llenglaws/page4']"
      ]
     },
     "execution_count": 91,
     "metadata": {},
     "output_type": "execute_result"
    }
   ],
   "source": [
    "English_laws_pagination_urls = await get_laws_pagination_urls(ENGLISH_LAWS_URL, \".page-link\")\n",
    "English_laws_pagination_urls"
   ]
  },
  {
   "cell_type": "code",
   "execution_count": null,
   "metadata": {},
   "outputs": [],
   "source": [
    "Ukranian_laws_pagination_urls_by_year = await get_laws_pagination_urls(UKRAINIAN_LAWS_URL, \".nav-list .btn-link:not(.active)\")\n",
    "Ukranian_laws_pagination_urls_by_year"
   ]
  },
  {
   "cell_type": "code",
   "execution_count": null,
   "metadata": {},
   "outputs": [],
   "source": [
    "try:\n",
    "    laws_with_abstracts_folder = os.path.join(os.path.curdir, \"laws_with_abstracts\")\n",
    "    all_ukrainian_legal_documents_folder = os.path.join(laws_with_abstracts_folder, \"all_ukrainian_legal_documents\")\n",
    "    create_folder_if_not_exists(all_ukrainian_legal_documents_folder)\n",
    "\n",
    "    for year_url in Ukranian_laws_pagination_urls_by_year:\n",
    "        year = year_url[-4:]\n",
    "        year_folder = os.path.join(all_ukrainian_legal_documents_folder, year)\n",
    "        create_folder_if_not_exists(year_folder)\n",
    "        year_pagination_urls = await get_laws_pagination_urls(year_url, \".page-link\")\n",
    "        lang = \"uk\"\n",
    "        columns = [f'{lang}_law_url', f'{lang}_abstract_url', 'is_standardized']\n",
    "        await retrieve_laws_and_abstracts_from_pagination_pages(year_pagination_urls, year_folder, columns, lang)\n",
    "except:\n",
    "    print(\"An exception occurred\")"
   ]
  },
  {
   "cell_type": "code",
   "execution_count": 110,
   "metadata": {},
   "outputs": [
    {
     "name": "stderr",
     "output_type": "stream",
     "text": [
      "/var/folders/77/4txqwrfs09g9h9h83t09lj880000gn/T/ipykernel_76320/2656245327.py:31: FutureWarning: Behavior when concatenating bool-dtype and numeric-dtype arrays is deprecated; in a future version these will cast to object dtype (instead of coercing bools to numeric values). To retain the old behavior, explicitly cast bool-dtype arrays to numeric dtype.\n",
      "  df = pd.concat([df, pd.DataFrame([row])], ignore_index=True)\n"
     ]
    }
   ],
   "source": [
    "storage_folder = os.path.join(os.path.curdir, \"laws_with_abstracts\", \"split_by_sections\")\n",
    "columns = [f'en_law_url', f'en_abstract_url', 'is_standardized']\n",
    "await retrieve_laws_and_abstracts_from_pagination_pages(English_laws_pagination_urls, storage_folder, columns, \"en\")"
   ]
  }
 ],
 "metadata": {
  "kernelspec": {
   "display_name": "Python 3",
   "language": "python",
   "name": "python3"
  },
  "language_info": {
   "codemirror_mode": {
    "name": "ipython",
    "version": 3
   },
   "file_extension": ".py",
   "mimetype": "text/x-python",
   "name": "python",
   "nbconvert_exporter": "python",
   "pygments_lexer": "ipython3",
   "version": "3.11.3"
  },
  "orig_nbformat": 4
 },
 "nbformat": 4,
 "nbformat_minor": 2
}
